{
  "nbformat": 4,
  "nbformat_minor": 0,
  "metadata": {
    "colab": {
      "provenance": [],
      "authorship_tag": "ABX9TyP2QS3sEdalJ2AvNHcVq8VU",
      "include_colab_link": true
    },
    "kernelspec": {
      "name": "python3",
      "display_name": "Python 3"
    },
    "language_info": {
      "name": "python"
    }
  },
  "cells": [
    {
      "cell_type": "markdown",
      "metadata": {
        "id": "view-in-github",
        "colab_type": "text"
      },
      "source": [
        "<a href=\"https://colab.research.google.com/github/tanvidukare/python/blob/pythonexcercises/pythonexcercise.ipynb\" target=\"_parent\"><img src=\"https://colab.research.google.com/assets/colab-badge.svg\" alt=\"Open In Colab\"/></a>"
      ]
    },
    {
      "cell_type": "markdown",
      "source": [
        "Name: Tanvi Dukare\n",
        "Roll no.: 172\n",
        "Batch: A4"
      ],
      "metadata": {
        "id": "nOsSwhi7UemD"
      }
    },
    {
      "cell_type": "markdown",
      "source": [
        "1.Write a program in python to display factorial number"
      ],
      "metadata": {
        "id": "5DPf2E76NHVX"
      }
    },
    {
      "cell_type": "code",
      "execution_count": null,
      "metadata": {
        "colab": {
          "base_uri": "https://localhost:8080/"
        },
        "id": "s6XZqVk9MYry",
        "outputId": "1deacaa3-d839-43c8-be4a-6be28416673f"
      },
      "outputs": [
        {
          "output_type": "stream",
          "name": "stdout",
          "text": [
            "Enter a number: 11\n",
            "The factorial of 11 is 39916800\n"
          ]
        }
      ],
      "source": [
        "num = int(input(\"Enter a number: \"))\n",
        "factorial = 1\n",
        "if num < 0:\n",
        "   print(\" Factorial does not exist for negative numbers\")\n",
        "elif num == 0:\n",
        "   print(\"The factorial of 0 is 1\")\n",
        "else:\n",
        "   for i in range(1,num + 1):\n",
        "       factorial = factorial*i\n",
        "   print(\"The factorial of\",num,\"is\",factorial)"
      ]
    },
    {
      "cell_type": "markdown",
      "source": [
        "2.write a program in python to reverse a word"
      ],
      "metadata": {
        "id": "h5rT7xLPNSwU"
      }
    },
    {
      "cell_type": "code",
      "source": [
        "word = input(\"Input a word to reverse: \")\n",
        "\n",
        "for char in range(len(word) - 1, -1, -1):\n",
        "  print(word[char], end=\"\")\n",
        "print(\"\\n\")"
      ],
      "metadata": {
        "colab": {
          "base_uri": "https://localhost:8080/"
        },
        "id": "tGW4-Rk0NYco",
        "outputId": "006af298-baa0-4136-e017-d7bf3b3b5597"
      },
      "execution_count": null,
      "outputs": [
        {
          "output_type": "stream",
          "name": "stdout",
          "text": [
            "Input a word to reverse: Tanvi\n",
            "ivnaT\n",
            "\n"
          ]
        }
      ]
    },
    {
      "cell_type": "markdown",
      "source": [
        "3.Write a Python program to reverse a number"
      ],
      "metadata": {
        "id": "mUH-o3s7NrvN"
      }
    },
    {
      "cell_type": "code",
      "source": [
        "num = int(input(\"number to reverse:\"))\n",
        "reversed_num = 0\n",
        "\n",
        "while num != 0:\n",
        "    digit = num % 10\n",
        "    reversed_num = reversed_num * 10 + digit\n",
        "    num //= 10\n",
        "\n",
        "print(\"Reversed Number: \" + str(reversed_num))"
      ],
      "metadata": {
        "colab": {
          "base_uri": "https://localhost:8080/"
        },
        "id": "eCyKfIddN5HP",
        "outputId": "a49d52e9-9cd6-40d9-f516-5859fb041d2d"
      },
      "execution_count": null,
      "outputs": [
        {
          "output_type": "stream",
          "name": "stdout",
          "text": [
            "number to reverse:1234\n",
            "Reversed Number: 4321\n"
          ]
        }
      ]
    },
    {
      "cell_type": "markdown",
      "source": [
        "4.Write a program to print n natural number in descending order using a while loop."
      ],
      "metadata": {
        "id": "CrUZAz_JOWa9"
      }
    },
    {
      "cell_type": "code",
      "source": [
        "number = int(input(\"Please Enter any Number: \"))\n",
        "i = number\n",
        "\n",
        "print(\"List of Natural Numbers from {0} to 1 in Decending Order : \".format(number))\n",
        "\n",
        "while ( i >= 1):\n",
        "    print (i, end = '  ')\n",
        "    i = i - 1"
      ],
      "metadata": {
        "colab": {
          "base_uri": "https://localhost:8080/"
        },
        "id": "npxHm4QwO4C2",
        "outputId": "a258c7cb-59e9-4aa0-d871-40f7e46c1931"
      },
      "execution_count": null,
      "outputs": [
        {
          "output_type": "stream",
          "name": "stdout",
          "text": [
            "Please Enter any Number: 10\n",
            "List of Natural Numbers from 10 to 1 in Decending Order : \n",
            "10  9  8  7  6  5  4  3  2  1  "
          ]
        }
      ]
    },
    {
      "cell_type": "markdown",
      "source": [
        "5.Write a program to display the first 7 multiples of 7."
      ],
      "metadata": {
        "id": "IzTA8qv8PCuX"
      }
    },
    {
      "cell_type": "code",
      "source": [
        "number = int(7)\n",
        "\n",
        "print(\"The multiples are: \")\n",
        "for i in range(1,8):\n",
        "    print(number*i, end =\" \")"
      ],
      "metadata": {
        "colab": {
          "base_uri": "https://localhost:8080/"
        },
        "id": "jH9XlIoDPH11",
        "outputId": "99a37317-600b-4f20-c792-b299b5891fe8"
      },
      "execution_count": null,
      "outputs": [
        {
          "output_type": "stream",
          "name": "stdout",
          "text": [
            "The multiples are: \n",
            "7 14 21 28 35 42 49 "
          ]
        }
      ]
    },
    {
      "cell_type": "markdown",
      "source": [
        "6.Write a program that appends the square of each number to a new list."
      ],
      "metadata": {
        "id": "g1YJ9qakP4Rc"
      }
    },
    {
      "cell_type": "code",
      "source": [
        "my_list = [1, 2, 3, 4, 5, 6, 7]\n",
        "squared_list = [number**2 for number in my_list]\n",
        "\n",
        "print(squared_list)"
      ],
      "metadata": {
        "id": "zupY4YGAP8Jw",
        "colab": {
          "base_uri": "https://localhost:8080/"
        },
        "outputId": "4527a243-7d21-4b8d-aacf-95d7f59ab87a"
      },
      "execution_count": null,
      "outputs": [
        {
          "output_type": "stream",
          "name": "stdout",
          "text": [
            "[1, 4, 9, 16, 25, 36, 49]\n"
          ]
        }
      ]
    },
    {
      "cell_type": "markdown",
      "source": [
        "7.WAP to separate positive and negative number from a list."
      ],
      "metadata": {
        "id": "qjioMnp5Ps3a"
      }
    },
    {
      "cell_type": "code",
      "source": [
        "NumList = []\n",
        "Positive = []\n",
        "Negative = []\n",
        "\n",
        "Number = int(input(\"Please enter the Total Number of List Elements : \"))\n",
        "for i in range(1, Number + 1):\n",
        "    value = int(input(\"Please enter the Value of %d Element : \" %i))\n",
        "    NumList.append(value)\n",
        "\n",
        "for j in range(Number):\n",
        "    if(NumList[j] >= 0):\n",
        "        Positive.append(NumList[j])\n",
        "    else:\n",
        "        Negative.append(NumList[j])\n",
        "\n",
        "print(\"Element in Positive List is : \", Positive)\n",
        "print(\"Element in Negative List is : \", Negative)\n"
      ],
      "metadata": {
        "colab": {
          "base_uri": "https://localhost:8080/"
        },
        "id": "vTqJDuPoPyTH",
        "outputId": "c0366c27-e04c-4e89-a2ee-83d97b64ec72"
      },
      "execution_count": null,
      "outputs": [
        {
          "output_type": "stream",
          "name": "stdout",
          "text": [
            "Please enter the Total Number of List Elements : 6\n",
            "Please enter the Value of 1 Element : -5\n",
            "Please enter the Value of 2 Element : -3\n",
            "Please enter the Value of 3 Element : 6\n",
            "Please enter the Value of 4 Element : 8\n",
            "Please enter the Value of 5 Element : 0\n",
            "Please enter the Value of 6 Element : -9\n",
            "Element in Positive List is :  [6, 8, 0]\n",
            "Element in Negative List is :  [-5, -3, -9]\n"
          ]
        }
      ]
    },
    {
      "cell_type": "markdown",
      "source": [
        "8.Write a program that appends the type of elements from a list."
      ],
      "metadata": {
        "id": "LHPso0pURdTi"
      }
    },
    {
      "cell_type": "code",
      "source": [
        "my_list = [9, 5, 7]\n",
        "new_element = 3\n",
        "my_list = my_list + [new_element]\n",
        "print(my_list)"
      ],
      "metadata": {
        "colab": {
          "base_uri": "https://localhost:8080/"
        },
        "id": "y6DOq8cSRihJ",
        "outputId": "33a2f5f9-3e58-469e-f8c6-63d87c01d36f"
      },
      "execution_count": null,
      "outputs": [
        {
          "output_type": "stream",
          "name": "stdout",
          "text": [
            "[9, 5, 7, 3]\n"
          ]
        }
      ]
    },
    {
      "cell_type": "markdown",
      "source": [
        "9.Write a program to filter even and odd number from a list."
      ],
      "metadata": {
        "id": "qBF3iriSSLDw"
      }
    },
    {
      "cell_type": "code",
      "source": [
        "nums = [43, 20, 53, 12, 53, 5, 3, 2]\n",
        "\n",
        "even = []\n",
        "odd = []\n",
        "\n",
        "for i in nums:\n",
        "    if(i % 2 == 0):\n",
        "        even.append(i)\n",
        "    else:\n",
        "        odd.append(i)\n",
        "\n",
        "print(\"Even List: \",even)\n",
        "print(\"Odd List: \",odd)\n"
      ],
      "metadata": {
        "colab": {
          "base_uri": "https://localhost:8080/"
        },
        "id": "F-joNyh1SY6f",
        "outputId": "b2593ef3-f915-4e9f-f668-42ade46b5bbb"
      },
      "execution_count": null,
      "outputs": [
        {
          "output_type": "stream",
          "name": "stdout",
          "text": [
            "Even List:  [20, 12, 2]\n",
            "Odd List:  [43, 53, 53, 5, 3]\n"
          ]
        }
      ]
    },
    {
      "cell_type": "markdown",
      "source": [
        "10.Write a program to fetch only even values from a dictionary"
      ],
      "metadata": {
        "id": "-U_SxZfXSu_-"
      }
    },
    {
      "cell_type": "code",
      "source": [
        "def test(dictt):\n",
        "    result = {key: [idx for idx in val if not idx % 2]\n",
        "          for key, val in dictt.items()}\n",
        "    return result\n",
        "\n",
        "students = {'V' : [1, 4, 6, 10], 'VI' : [1, 4, 12], 'VII' : [1, 3, 8]}\n",
        "print(\"\\nOriginal Dictionary:\")\n",
        "print(students)\n",
        "print(\"Filter even numbers from said dictionary values:\")\n",
        "print(test(students))"
      ],
      "metadata": {
        "colab": {
          "base_uri": "https://localhost:8080/"
        },
        "id": "YdFVNbWrSzWn",
        "outputId": "9ddc3b96-92f0-4540-f0ad-12e9f888867b"
      },
      "execution_count": null,
      "outputs": [
        {
          "output_type": "stream",
          "name": "stdout",
          "text": [
            "\n",
            "Original Dictionary:\n",
            "{'V': [1, 4, 6, 10], 'VI': [1, 4, 12], 'VII': [1, 3, 8]}\n",
            "Filter even numbers from said dictionary values:\n",
            "{'V': [4, 6, 10], 'VI': [4, 12], 'VII': [8]}\n"
          ]
        }
      ]
    }
  ]
}